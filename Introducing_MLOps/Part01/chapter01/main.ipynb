{
 "cells": [
  {
   "cell_type": "markdown",
   "metadata": {},
   "source": [
    "Why Now and Challenges"
   ]
  },
  {
   "cell_type": "markdown",
   "metadata": {},
   "source": [
    "Machine learning operations (MLOps) is quickly becoming a critical component of\n",
    "successful data science project deployment in the enterprise. It’s a process\n",
    "that helps organizations and business leaders generate long-term value and reduce\n",
    "risk associated with data science, machine learning, and AI initiatives."
   ]
  },
  {
   "cell_type": "markdown",
   "metadata": {},
   "source": [
    "A simple representation of the machine learning model life cycle, which often\n",
    "underplays the need for MLOps,"
   ]
  },
  {
   "cell_type": "markdown",
   "metadata": {},
   "source": [
    "Iterate\n",
    "Define business goal\n",
    "Access, Understand, and clean data\n",
    "build machine Learning\n",
    "Deploy machine Learning"
   ]
  },
  {
   "cell_type": "markdown",
   "metadata": {},
   "source": [
    "difference between MLOps and DevOps\n",
    "\n",
    "Yet there is one critical difference between MLOps and DevOps that makes the latter\n",
    "not immediately transferable to data science teams: deploying software code into pro‐\n",
    "duction is fundamentally different than deploying machine learning models into pro‐\n",
    "duction. While software code is relatively static (“relatively” because many modern\n",
    "software-as-a-service [SaaS] companies do have DevOps teams that can iterate quite\n",
    "quickly and deploy in production multiple times per day), data is always changing,\n",
    "which means machine learning models are constantly learning and adapting—or not,\n",
    "as the case may be—to new inputs. The complexity of this environment, including the\n",
    "fact that machine learning models are made up of both code and data, is what makes\n",
    "MLOps a new and unique discipline."
   ]
  }
 ],
 "metadata": {
  "kernelspec": {
   "display_name": "Python 3.10.4 64-bit",
   "language": "python",
   "name": "python3"
  },
  "language_info": {
   "name": "python",
   "version": "3.10.4"
  },
  "orig_nbformat": 4,
  "vscode": {
   "interpreter": {
    "hash": "916dbcbb3f70747c44a77c7bcd40155683ae19c65e1c03b4aa3499c5328201f1"
   }
  }
 },
 "nbformat": 4,
 "nbformat_minor": 2
}
